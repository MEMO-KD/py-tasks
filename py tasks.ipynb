{
 "cells": [
  {
   "cell_type": "code",
   "execution_count": 1,
   "id": "0cdc31bc-4cae-405b-9605-d42902da68e5",
   "metadata": {},
   "outputs": [
    {
     "name": "stdout",
     "output_type": "stream",
     "text": [
      "The largest element is: 8\n"
     ]
    }
   ],
   "source": [
    "def find_largest_element(numbers):\n",
    "    largest = numbers[0]  \n",
    "    for number in numbers:\n",
    "        if number > largest:\n",
    "            largest = number\n",
    "    return largest\n",
    "\n",
    "# Example usage:\n",
    "numbers = [3, 5, 1, 8, 2]\n",
    "largest = find_largest_element(numbers)\n",
    "print(\"The largest element is:\", largest)"
   ]
  },
  {
   "cell_type": "code",
   "execution_count": 3,
   "id": "e701485c-83c4-425b-8db0-586d02c60b7d",
   "metadata": {},
   "outputs": [
    {
     "name": "stdout",
     "output_type": "stream",
     "text": [
      "Word Frequencies: {'hello': 2, 'world': 1}\n"
     ]
    }
   ],
   "source": [
    "def word_frequency_counter(text):\n",
    "    words = text.split()  # Split the text into words\n",
    "    frequency = {}\n",
    "    \n",
    "    for word in words:\n",
    "        word = word.lower()  # Convert to lowercase for uniformity\n",
    "        if word in frequency:\n",
    "            frequency[word] += 1\n",
    "        else:\n",
    "            frequency[word] = 1\n",
    "            \n",
    "    return frequency\n",
    "\n",
    "\n",
    "text = \"Hello world hello\"\n",
    "frequency = word_frequency_counter(text)\n",
    "print(\"Word Frequencies:\", frequency)"
   ]
  },
  {
   "cell_type": "code",
   "execution_count": 5,
   "id": "c9e428a8-5161-4bf9-9aae-995ec70c2131",
   "metadata": {},
   "outputs": [
    {
     "name": "stdout",
     "output_type": "stream",
     "text": [
      "Number of vowels: 3\n"
     ]
    }
   ],
   "source": [
    "def count_vowels(string):\n",
    "    vowels = \"aeiouAEIOU\"\n",
    "    count = 0\n",
    "    \n",
    "    for char in string:\n",
    "        if char in vowels:\n",
    "            count += 1\n",
    "            \n",
    "    return count\n",
    "\n",
    "# Example usage:\n",
    "string = \"Hello World\"\n",
    "vowel_count = count_vowels(string)\n",
    "print(\"Number of vowels:\", vowel_count)"
   ]
  },
  {
   "cell_type": "code",
   "execution_count": null,
   "id": "4263255c-2671-4231-84a4-c55b5d0358d4",
   "metadata": {},
   "outputs": [],
   "source": []
  }
 ],
 "metadata": {
  "kernelspec": {
   "display_name": "Python 3 (ipykernel)",
   "language": "python",
   "name": "python3"
  },
  "language_info": {
   "codemirror_mode": {
    "name": "ipython",
    "version": 3
   },
   "file_extension": ".py",
   "mimetype": "text/x-python",
   "name": "python",
   "nbconvert_exporter": "python",
   "pygments_lexer": "ipython3",
   "version": "3.12.2"
  }
 },
 "nbformat": 4,
 "nbformat_minor": 5
}
