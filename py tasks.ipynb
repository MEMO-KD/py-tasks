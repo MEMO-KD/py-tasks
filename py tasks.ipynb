{
 "cells": [
  {
   "cell_type": "code",
   "execution_count": 1,
   "id": "0cdc31bc-4cae-405b-9605-d42902da68e5",
   "metadata": {},
   "outputs": [
    {
     "name": "stdout",
     "output_type": "stream",
     "text": [
      "The largest element is: 8\n"
     ]
    }
   ],
   "source": [
    "def find_largest_element(numbers):\n",
    "    largest = numbers[0]  \n",
    "    for number in numbers:\n",
    "        if number > largest:\n",
    "            largest = number\n",
    "    return largest\n",
    "\n",
    "# Example usage:\n",
    "numbers = [3, 5, 1, 8, 2]\n",
    "largest = find_largest_element(numbers)\n",
    "print(\"The largest element is:\", largest)"
   ]
  },
  {
   "cell_type": "code",
   "execution_count": 3,
   "id": "e701485c-83c4-425b-8db0-586d02c60b7d",
   "metadata": {},
   "outputs": [
    {
     "name": "stdout",
     "output_type": "stream",
     "text": [
      "Word Frequencies: {'hello': 2, 'world': 1}\n"
     ]
    }
   ],
   "source": [
    "def word_frequency_counter(text):\n",
    "    words = text.split()  # Split the text into words\n",
    "    frequency = {}\n",
    "    \n",
    "    for word in words:\n",
    "        word = word.lower()  # Convert to lowercase for uniformity\n",
    "        if word in frequency:\n",
    "            frequency[word] += 1\n",
    "        else:\n",
    "            frequency[word] = 1\n",
    "            \n",
    "    return frequency\n",
    "\n",
    "\n",
    "text = \"Hello world hello\"\n",
    "frequency = word_frequency_counter(text)\n",
    "print(\"Word Frequencies:\", frequency)"
   ]
  },
  {
   "cell_type": "code",
   "execution_count": 5,
   "id": "c9e428a8-5161-4bf9-9aae-995ec70c2131",
   "metadata": {},
   "outputs": [
    {
     "name": "stdout",
     "output_type": "stream",
     "text": [
      "Number of vowels: 3\n"
     ]
    }
   ],
   "source": [
    "def count_vowels(string):\n",
    "    vowels = \"aeiouAEIOU\"\n",
    "    count = 0\n",
    "    \n",
    "    for char in string:\n",
    "        if char in vowels:\n",
    "            count += 1\n",
    "            \n",
    "    return count\n",
    "\n",
    "# Example usage:\n",
    "string = \"Hello World\"\n",
    "vowel_count = count_vowels(string)\n",
    "print(\"Number of vowels:\", vowel_count)"
   ]
  },
  {
   "cell_type": "code",
   "execution_count": 9,
   "id": "4263255c-2671-4231-84a4-c55b5d0358d4",
   "metadata": {},
   "outputs": [
    {
     "name": "stdout",
     "output_type": "stream",
     "text": [
      "13\n"
     ]
    }
   ],
   "source": [
    "def string_length(s):\n",
    "    return len(s)\n",
    "\n",
    "\n",
    "result = string_length(\"Hello, World!\")\n",
    "print(result)  "
   ]
  },
  {
   "cell_type": "code",
   "execution_count": 11,
   "id": "8a70afab-24f1-412e-ae5e-fae15e9642c1",
   "metadata": {},
   "outputs": [
    {
     "name": "stdout",
     "output_type": "stream",
     "text": [
      "[2, 4, 6]\n"
     ]
    }
   ],
   "source": [
    "def find_even_numbers(lst):\n",
    "    return [num for num in lst if num % 2 == 0]\n",
    "\n",
    "# Example usage\n",
    "even_numbers = find_even_numbers([1, 2, 3, 4, 5, 6])\n",
    "print(even_numbers)  "
   ]
  },
  {
   "cell_type": "code",
   "execution_count": 13,
   "id": "fb9a939b-0a39-43d4-af11-80ef6938f323",
   "metadata": {},
   "outputs": [
    {
     "name": "stdout",
     "output_type": "stream",
     "text": [
      "olleH\n"
     ]
    }
   ],
   "source": [
    "def reverse_string(s):\n",
    "    return s[::-1]\n",
    "\n",
    "# Example usage\n",
    "reversed_str = reverse_string(\"Hello\")\n",
    "print(reversed_str)  "
   ]
  },
  {
   "cell_type": "code",
   "execution_count": 15,
   "id": "0a69b3aa-5976-4612-a45e-06d7b3615c1f",
   "metadata": {},
   "outputs": [
    {
     "name": "stdout",
     "output_type": "stream",
     "text": [
      "15\n"
     ]
    }
   ],
   "source": [
    "def sum_of_elements(lst):\n",
    "    return sum(lst)\n",
    "\n",
    "# Example usage\n",
    "total = sum_of_elements([1, 2, 3, 4, 5])\n",
    "print(total)  "
   ]
  },
  {
   "cell_type": "code",
   "execution_count": 19,
   "id": "7db129e9-916f-41b7-8c74-fe51b0cfcee7",
   "metadata": {},
   "outputs": [
    {
     "name": "stdout",
     "output_type": "stream",
     "text": [
      "True\n"
     ]
    }
   ],
   "source": [
    "def is_even(num):\n",
    "    return num % 2 == 0\n",
    "\n",
    "\n",
    "result = is_even(6)\n",
    "print(result) "
   ]
  },
  {
   "cell_type": "code",
   "execution_count": 21,
   "id": "c9578d5e-87ff-4b6d-9818-b46290768eba",
   "metadata": {},
   "outputs": [
    {
     "name": "stdout",
     "output_type": "stream",
     "text": [
      "7\n"
     ]
    }
   ],
   "source": [
    "def count_words(s):\n",
    "    words = s.split()\n",
    "    return len(words)\n",
    "\n",
    "\n",
    "word_count = count_words(\"You are helpful assistant to create programs\")\n",
    "print(word_count)  "
   ]
  },
  {
   "cell_type": "code",
   "execution_count": 23,
   "id": "a307d9f4-8114-48dd-b165-559358e684c5",
   "metadata": {},
   "outputs": [
    {
     "name": "stdout",
     "output_type": "stream",
     "text": [
      "1\n"
     ]
    }
   ],
   "source": [
    "def find_smallest(lst):\n",
    "    return min(lst)\n",
    "\n",
    "smallest_element = find_smallest([5, 2, 9, 1, 5, 6])\n",
    "print(smallest_element)  "
   ]
  },
  {
   "cell_type": "code",
   "execution_count": 25,
   "id": "bb0d645a-cea2-4bcb-a97e-6940fd48befd",
   "metadata": {},
   "outputs": [
    {
     "name": "stdout",
     "output_type": "stream",
     "text": [
      "[1, 2, 3, 4, 5]\n"
     ]
    }
   ],
   "source": [
    "def remove_duplicates(lst):\n",
    "    return list(set(lst))\n",
    "\n",
    "unique_list = remove_duplicates([1, 2, 2, 3, 4, 4, 5])\n",
    "print(unique_list)  "
   ]
  },
  {
   "cell_type": "code",
   "execution_count": null,
   "id": "2ef73b21-d64b-4321-b62a-583f1acf0243",
   "metadata": {},
   "outputs": [],
   "source": []
  }
 ],
 "metadata": {
  "kernelspec": {
   "display_name": "Python 3 (ipykernel)",
   "language": "python",
   "name": "python3"
  },
  "language_info": {
   "codemirror_mode": {
    "name": "ipython",
    "version": 3
   },
   "file_extension": ".py",
   "mimetype": "text/x-python",
   "name": "python",
   "nbconvert_exporter": "python",
   "pygments_lexer": "ipython3",
   "version": "3.12.2"
  }
 },
 "nbformat": 4,
 "nbformat_minor": 5
}
